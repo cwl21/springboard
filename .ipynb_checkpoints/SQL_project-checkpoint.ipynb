{
 "cells": [
  {
   "cell_type": "markdown",
   "metadata": {},
   "source": [
    "# SQL Project"
   ]
  },
  {
   "cell_type": "markdown",
   "metadata": {},
   "source": [
    "# Q1\n"
   ]
  },
  {
   "cell_type": "markdown",
   "metadata": {},
   "source": [
    "SELECT name\n",
    "FROM `Facilities`\n",
    "WHERE membercost >0"
   ]
  },
  {
   "cell_type": "markdown",
   "metadata": {},
   "source": [
    "## Q2"
   ]
  },
  {
   "cell_type": "markdown",
   "metadata": {},
   "source": [
    "SELECT COUNT( name )\n",
    "FROM `Facilities`\n",
    "WHERE membercost = 0"
   ]
  },
  {
   "cell_type": "markdown",
   "metadata": {},
   "source": [
    "## Q3"
   ]
  },
  {
   "cell_type": "markdown",
   "metadata": {},
   "source": [
    "SELECT facid, name, membercost, monthlymaintenance\n",
    "FROM `Facilities`\n",
    "WHERE membercost >0\n",
    "AND membercost < monthlymaintenance * .20"
   ]
  },
  {
   "cell_type": "markdown",
   "metadata": {},
   "source": [
    "## Q4"
   ]
  },
  {
   "cell_type": "markdown",
   "metadata": {},
   "source": [
    "SELECT *\n",
    "FROM `Facilities`\n",
    "WHERE facid\n",
    "BETWEEN 1\n",
    "AND 5 "
   ]
  },
  {
   "cell_type": "markdown",
   "metadata": {},
   "source": [
    "## Q5"
   ]
  },
  {
   "cell_type": "markdown",
   "metadata": {},
   "source": []
  },
  {
   "cell_type": "markdown",
   "metadata": {},
   "source": [
    "## Q6"
   ]
  },
  {
   "cell_type": "markdown",
   "metadata": {},
   "source": [
    "SELECT CONCAT( firstname, \" \", surname ) AS Name, MAX( joindate )\n",
    "FROM Members\n",
    "WHERE memid != 0"
   ]
  },
  {
   "cell_type": "markdown",
   "metadata": {},
   "source": [
    "## Q7"
   ]
  },
  {
   "cell_type": "markdown",
   "metadata": {},
   "source": [
    "SELECT DISTINCT CONCAT( name, ' ', firstname, ' ', surname )\n",
    "FROM Bookings\n",
    "JOIN Facilities ON Bookings.facid = Facilities.facid\n",
    "JOIN Members ON Bookings.memid = Members.memid\n",
    "WHERE Bookings.memid !=0\n",
    "AND Bookings.facid =0\n",
    "OR Bookings.facid =1\n",
    "ORDER BY Members.firstname"
   ]
  },
  {
   "cell_type": "markdown",
   "metadata": {},
   "source": [
    "## Q8"
   ]
  },
  {
   "cell_type": "markdown",
   "metadata": {},
   "source": [
    "SELECT name AS facility, CONCAT( Members.firstname, ' ', Members.surname ) AS member,\n",
    "CASE\n",
    "WHEN Bookings.memid =0\n",
    "AND guestcost * slots >30\n",
    "THEN guestcost * slots\n",
    "WHEN Bookings.memid !=0\n",
    "AND membercost * slots >30\n",
    "THEN membercost * slots\n",
    "END AS Cost\n",
    "FROM Bookings\n",
    "INNER JOIN Facilities ON Bookings.facid = Facilities.facid\n",
    "INNER JOIN Members ON Bookings.memid = Members.memid\n",
    "WHERE Bookings.starttime >= '2012-09-14'\n",
    "AND Bookings.starttime < '2012-09-15'\n",
    "ORDER BY Cost DESC"
   ]
  },
  {
   "cell_type": "markdown",
   "metadata": {},
   "source": [
    "## Q9"
   ]
  },
  {
   "cell_type": "markdown",
   "metadata": {},
   "source": [
    "SELECT member, facility, cost\n",
    "FROM (\n",
    "SELECT CONCAT( Members.firstname, ' ', Members.surname ) AS member, Facilities.name AS facility,\n",
    "CASE\n",
    "WHEN Members.memid =0\n",
    "THEN Bookings.slots * Facilities.guestcost\n",
    "ELSE Bookings.slots * Facilities.membercost\n",
    "END AS cost\n",
    "FROM Members\n",
    "INNER JOIN Bookings ON Members.memid = Bookings.memid\n",
    "INNER JOIN Facilities ON Bookings.facid = Facilities.facid\n",
    "WHERE Bookings.starttime >= '2012-09-14'\n",
    "AND Bookings.starttime < '2012-09-15'\n",
    ") AS bookings\n",
    "WHERE cost >30\n",
    "ORDER BY cost DESC "
   ]
  },
  {
   "cell_type": "markdown",
   "metadata": {},
   "source": [
    "## Q10"
   ]
  },
  {
   "cell_type": "markdown",
   "metadata": {},
   "source": [
    "SELECT name, sum(\n",
    "CASE\n",
    "WHEN memid =0\n",
    "THEN slots * guestcost\n",
    "ELSE slots * membercost\n",
    "END ) AS revenue\n",
    "FROM Bookings\n",
    "INNER JOIN Facilities ON Bookings.facid = Facilities.facid\n",
    "GROUP BY name\n",
    "HAVING revenue <1000"
   ]
  },
  {
   "cell_type": "markdown",
   "metadata": {},
   "source": []
  }
 ],
 "metadata": {
  "kernelspec": {
   "display_name": "Python 3",
   "language": "python",
   "name": "python3"
  },
  "language_info": {
   "codemirror_mode": {
    "name": "ipython",
    "version": 3
   },
   "file_extension": ".py",
   "mimetype": "text/x-python",
   "name": "python",
   "nbconvert_exporter": "python",
   "pygments_lexer": "ipython3",
   "version": "3.7.4"
  }
 },
 "nbformat": 4,
 "nbformat_minor": 2
}
