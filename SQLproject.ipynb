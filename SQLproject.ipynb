
MEMBERS WHOVE USED TENNIS

SELECT CONCAT( Members.firstname, " ", Members.surname ) AS memname
FROM Bookings
JOIN Members ON Bookings.memid = Members.memid
WHERE Bookings.facid =0
OR facid =1
GROUP BY firstname

Q6

SELECT CONCAT( firstname, " ", surname ) AS Member_Name, MAX( joindate )
FROM Members
WHERE NOT memid =0


Q4

SELECT *
FROM `Facilities`
WHERE name LIKE '%2'






{



SELECT name,
	CASE 
		WHEN Bookings.memid = 0 THEN SUM(slots * guestcost)
        	ELSE SUM(slots * membercost) END AS Revenue
	
FROM Facilities
JOIN Bookings ON Bookings.facid = Facilities.facid
GROUP BY Bookings.facid



 "cells": [
  {
   "cell_type": "markdown",
   "metadata": {},
   "source": [
    "# Q1: Some of the facilities charge a fee to members, but some do not.\n",
    "Please list the names of the facilities that do."
   ]
  },
  {
   "cell_type": "markdown",
   "metadata": {},
   "source": [
    "\n",
    "SELECT name\n",
    "FROM `Facilities`\n",
    "WHERE membercost >0"
   ]
  },
  {
   "cell_type": "markdown",
   "metadata": {},
   "source": [
    "# Q2: How many facilities do not charge a fee to members"
   ]
  },
  {
   "cell_type": "markdown",
   "metadata": {},
   "source": [
    "SELECT COUNT( name )\n",
    "FROM `Facilities`\n",
    "WHERE membercost >0"
   ]
  },
  {
   "cell_type": "markdown",
   "metadata": {},
   "source": [
    "# Q3: How can you produce a list of facilities that charge a fee to members,\n",
    "# where the fee is less than 20% of the facility's monthly maintenance cost?\n",
    "\n",
    "Return the facid, facility name, member cost, and monthly maintenance of the\n",
    "facilities in question."
   ]
  },
  {
   "cell_type": "markdown",
   "metadata": {},
   "source": [
    "SELECT facid, name, membercost, monthlymaintenance\n",
    "FROM `Facilities`\n",
    "WHERE membercost >0\n",
    "AND membercost < monthlymaintenance * .20"
   ]
  },
  {
   "cell_type": "markdown",
   "metadata": {},
   "source": [
    "# Q4: How can you retrieve the details of facilities with ID 1 and 5?\n",
    "Write the query without using the OR operator."
   ]
  },
  {
   "cell_type": "markdown",
   "metadata": {},
   "source": [
    "SELECT *\n",
    "FROM `Facilities`\n",
    "WHERE facid\n",
    "BETWEEN 1\n",
    "AND 5 "
   ]
  },
  {
   "cell_type": "markdown",
   "metadata": {},
   "source": [
    "# Q5: How can you produce a list of facilities, with each labelled as\n",
    "# 'cheap' or 'expensive', depending on if their monthly maintenance cost is\n",
    "# more than $100? \n",
    "Return the name and monthly maintenance of the facilities\n",
    "in question."
   ]
  },
  {
   "cell_type": "markdown",
   "metadata": {},
   "source": []
  },
  {
   "cell_type": "markdown",
   "metadata": {},
   "source": [
    "# Q6: You'd like to get the first and last name of the last member(s) who signed up. \n",
    "Do not use the LIMIT clause for your solution."
   ]
  },
  {
   "cell_type": "markdown",
   "metadata": {},
   "source": [
    "SELECT firstname, surname\n",
    "FROM `Members`"
   ]
  },
  {
   "cell_type": "markdown",
   "metadata": {},
   "source": [
    "# Q7: How can you produce a list of all members who have used a tennis court?\n",
    "Include in your output the name of the court, and the name of the member\n",
    "formatted as a single column. Ensure no duplicate data, and order by\n",
    "the member name."
   ]
  },
  {
   "cell_type": "markdown",
   "metadata": {},
   "source": [
    "SELECT DISTINCT CONCAT( name, ' ', firstname, ' ', surname )\n",
    "FROM Bookings\n",
    "JOIN Facilities ON Bookings.facid = Facilities.facid\n",
    "JOIN Members ON Bookings.memid = Members.memid\n",
    "WHERE Bookings.memid !=0\n",
    "AND Bookings.facid =0\n",
    "OR Bookings.facid =1\n",
    "ORDER BY Members.firstname"
   ]
  },
  {
   "cell_type": "markdown",
   "metadata": {},
   "source": [
    "# Q8: How can you produce a list of bookings on the day of 2012-09-14 which\n",
    "# will cost the member (or guest) more than $30? \n",
    "Remember that guests have\n",
    "different costs to members (the listed costs are per half-hour 'slot'), and\n",
    "the guest user's ID is always 0. Include in your output the name of the\n",
    "facility, the name of the member formatted as a single column, and the cost.\n",
    "Order by descending cost, and do not use any subqueries."
   ]
  },
  {
   "cell_type": "markdown",
   "metadata": {},
   "source": [
    "SELECT name AS Facility_Name, \n",
    "\n",
    "CONCAT( firstname, ' ', surname ) AS Member_Name, \n",
    "\n",
    "CASE WHEN Bookings.memid=0 THEN Facilities.guestcost * Bookings.slots \n",
    "\tELSE Facilities.membercost * Bookings.slots\n",
    "END AS Price\n",
    "\n",
    "FROM `Bookings`\n",
    "JOIN Facilities ON Bookings.facid = Facilities.facid\n",
    "JOIN Members ON Bookings.memid = Members.memid\n",
    "WHERE Bookings.starttime\n",
    "BETWEEN '2012-09-14 00:00:00'\n",
    "AND '2012-09-14 23:59:59'\n",
    "AND CASE\n",
    "WHEN Bookings.memid=0\n",
    "THEN Facilities.guestcost * Bookings.slots >30\n",
    "ELSE Facilities.membercost * Bookings.slots >30\n",
    "END "
   ]
  },
  {
   "cell_type": "code",
   "execution_count": 7,
   "metadata": {},
   "outputs": [
    {
     "ename": "SyntaxError",
     "evalue": "invalid syntax (<ipython-input-7-5a081e7a9d5e>, line 1)",
     "output_type": "error",
     "traceback": [
      "\u001b[1;36m  File \u001b[1;32m\"<ipython-input-7-5a081e7a9d5e>\"\u001b[1;36m, line \u001b[1;32m1\u001b[0m\n\u001b[1;33m    SELECT name AS Facility_Name,\u001b[0m\n\u001b[1;37m              ^\u001b[0m\n\u001b[1;31mSyntaxError\u001b[0m\u001b[1;31m:\u001b[0m invalid syntax\n"
     ]
    }
   ],
   "source": [
    "SELECT name AS Facility_Name, \n",
    "\n",
    "CONCAT( firstname, ' ', surname ) AS Member_Name, \n",
    "\n",
    "CASE WHEN Bookings.memid=0 THEN Facilities.guestcost * Bookings.slots \n",
    "\tELSE Facilities.membercost * Bookings.slots\n",
    "END AS Price\n",
    "\n",
    "FROM `Bookings`\n",
    "JOIN Facilities ON Bookings.facid = Facilities.facid\n",
    "JOIN Members ON Bookings.memid = Members.memid\n",
    "WHERE Bookings.starttime\n",
    "BETWEEN '2012-09-14 00:00:00'\n",
    "AND '2012-09-14 23:59:59'\n",
    "AND CASE\n",
    "WHEN Bookings.memid=0\n",
    "THEN Facilities.guestcost * Bookings.slots >30\n",
    "ELSE Facilities.membercost * Bookings.slots >30\n",
    "END "
   ]
  },
  {
   "cell_type": "markdown",
   "metadata": {},
   "source": [
    "# Q9: This time, produce the same result as in Q8, but using a subquery."
   ]
  },
  {
   "cell_type": "markdown",
   "metadata": {},
   "source": []
  },
  {
   "cell_type": "markdown",
   "metadata": {},
   "source": [
    "# Q10: Produce a list of facilities with a total revenue less than 1000.\n",
    "The output of facility name and total revenue, sorted by revenue. Remember\n",
    "that there's a different cost for guests and members!"
   ]
  },
  {
   "cell_type": "markdown",
   "metadata": {},
   "source": []
  }
 ],
 "metadata": {
  "kernelspec": {
   "display_name": "Python 3",
   "language": "python",
   "name": "python3"
  },
  "language_info": {
   "codemirror_mode": {
    "name": "ipython",
    "version": 3
   },
   "file_extension": ".py",
   "mimetype": "text/x-python",
   "name": "python",
   "nbconvert_exporter": "python",
   "pygments_lexer": "ipython3",
   "version": "3.7.4"
  }
 },
 "nbformat": 4,
 "nbformat_minor": 2
}
